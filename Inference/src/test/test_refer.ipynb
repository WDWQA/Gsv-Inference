{
 "cells": [
  {
   "cell_type": "code",
   "execution_count": 2,
   "metadata": {},
   "outputs": [
    {
     "name": "stdout",
     "output_type": "stream",
     "text": [
      "E:\\AItools\\GPT-SoVITS-Inference\n"
     ]
    }
   ],
   "source": [
    "%cd E:\\\\AItools\\\\GPT-SoVITS-Inference"
   ]
  },
  {
   "cell_type": "code",
   "execution_count": null,
   "metadata": {},
   "outputs": [],
   "source": [
    "%pip install -r requirements.txt"
   ]
  },
  {
   "cell_type": "code",
   "execution_count": 3,
   "metadata": {},
   "outputs": [
    {
     "name": "stderr",
     "output_type": "stream",
     "text": [
      "e:\\AItools\\AudioLabeling\\runtime\\lib\\site-packages\\tqdm\\auto.py:21: TqdmWarning: IProgress not found. Please update jupyter and ipywidgets. See https://ipywidgets.readthedocs.io/en/stable/user_install.html\n",
      "  from .autonotebook import tqdm as notebook_tqdm\n"
     ]
    },
    {
     "name": "stdout",
     "output_type": "stream",
     "text": [
      "Loading BERT weights from GPT_SoVITS/pretrained_models/chinese-roberta-wwm-ext-large\n"
     ]
    },
    {
     "name": "stderr",
     "output_type": "stream",
     "text": [
      "Some weights of the model checkpoint at GPT_SoVITS/pretrained_models/chinese-hubert-base were not used when initializing HubertModel: ['encoder.pos_conv_embed.conv.weight_g', 'encoder.pos_conv_embed.conv.weight_v']\n",
      "- This IS expected if you are initializing HubertModel from the checkpoint of a model trained on another task or with another architecture (e.g. initializing a BertForSequenceClassification model from a BertForPreTraining model).\n",
      "- This IS NOT expected if you are initializing HubertModel from the checkpoint of a model that you expect to be exactly identical (initializing a BertForSequenceClassification model from a BertForSequenceClassification model).\n",
      "Some weights of HubertModel were not initialized from the model checkpoint at GPT_SoVITS/pretrained_models/chinese-hubert-base and are newly initialized: ['encoder.pos_conv_embed.conv.parametrizations.weight.original0', 'encoder.pos_conv_embed.conv.parametrizations.weight.original1']\n",
      "You should probably TRAIN this model on a down-stream task to be able to use it for predictions and inference.\n"
     ]
    },
    {
     "name": "stdout",
     "output_type": "stream",
     "text": [
      "Loading CNHuBERT weights from GPT_SoVITS/pretrained_models/chinese-hubert-base\n",
      "Loading Text2Semantic weights from trained\\Hutao\\hutao-e75.ckpt\n",
      "Using Flash Attention\n",
      "Loading VITS weights from trained\\Hutao\\hutao_e60_s3360.pth\n"
     ]
    },
    {
     "name": "stderr",
     "output_type": "stream",
     "text": [
      "e:\\AItools\\AudioLabeling\\runtime\\lib\\site-packages\\torch\\nn\\utils\\weight_norm.py:28: UserWarning: torch.nn.utils.weight_norm is deprecated in favor of torch.nn.utils.parametrizations.weight_norm.\n",
      "  warnings.warn(\"torch.nn.utils.weight_norm is deprecated in favor of torch.nn.utils.parametrizations.weight_norm.\")\n"
     ]
    },
    {
     "name": "stdout",
     "output_type": "stream",
     "text": [
      "加载角色成功: Hutao\n",
      "default\n",
      "Set seed to 2107849564\n",
      "分桶处理模式已开启\n"
     ]
    },
    {
     "name": "stderr",
     "output_type": "stream",
     "text": [
      "e:\\AItools\\AudioLabeling\\runtime\\lib\\site-packages\\torch\\functional.py:660: UserWarning: stft with return_complex=False is deprecated. In a future pytorch release, stft will return complex tensors for all inputs, and return_complex=False will raise an error.\n",
      "Note: you can still call torch.view_as_real on the complex output to recover the old return format. (Triggered internally at ..\\aten\\src\\ATen\\native\\SpectralOps.cpp:879.)\n",
      "  return _VF.stft(input, n_fft, hop_length, win_length, window,  # type: ignore[attr-defined]\n",
      "Building prefix dict from the default dictionary ...\n"
     ]
    },
    {
     "name": "stdout",
     "output_type": "stream",
     "text": [
      "实际输入的参考文本: 我说白术，你不会看不出来吧？难不成你师父，忘了教你这门功夫？\n",
      "DEBUG:jieba_fast:Building prefix dict from the default dictionary ...\n"
     ]
    },
    {
     "name": "stderr",
     "output_type": "stream",
     "text": [
      "Loading model from cache C:\\Users\\xxoy1\\AppData\\Local\\Temp\\jieba.cache\n"
     ]
    },
    {
     "name": "stdout",
     "output_type": "stream",
     "text": [
      "DEBUG:jieba_fast:Loading model from cache C:\\Users\\xxoy1\\AppData\\Local\\Temp\\jieba.cache\n"
     ]
    },
    {
     "name": "stderr",
     "output_type": "stream",
     "text": [
      "Loading model cost 0.318 seconds.\n"
     ]
    },
    {
     "name": "stdout",
     "output_type": "stream",
     "text": [
      "DEBUG:jieba_fast:Loading model cost 0.318 seconds.\n"
     ]
    },
    {
     "name": "stderr",
     "output_type": "stream",
     "text": [
      "Prefix dict has been built succesfully.\n"
     ]
    },
    {
     "name": "stdout",
     "output_type": "stream",
     "text": [
      "DEBUG:jieba_fast:Prefix dict has been built succesfully.\n",
      "############ 切分文本 ############\n",
      "实际输入的目标文本:\n",
      "。你好，我是一个测试文本。\n",
      "实际输入的目标文本(切句后):\n",
      "['你好，我是一个测试文本。']\n",
      "############ 提取文本Bert特征 ############\n"
     ]
    },
    {
     "name": "stderr",
     "output_type": "stream",
     "text": [
      "100%|██████████| 1/1 [00:00<00:00, 48.73it/s]\n"
     ]
    },
    {
     "name": "stdout",
     "output_type": "stream",
     "text": [
      "############ 推理 ############\n",
      "前端处理后的文本(每句): ['你好,我是一个测试文本.']\n"
     ]
    },
    {
     "name": "stderr",
     "output_type": "stream",
     "text": [
      "  0%|          | 0/1500 [00:00<?, ?it/s]E:\\AItools\\GPT-SoVITS-Inference\\GPT_SoVITS\\AR\\models\\t2s_model.py:102: UserWarning: 1Torch was not compiled with flash attention. (Triggered internally at ..\\aten\\src\\ATen\\native\\transformers\\cuda\\sdp_utils.cpp:263.)\n",
      "  attn = F.scaled_dot_product_attention(q, k, v, attn_mask)\n",
      "  4%|▎         | 55/1500 [00:00<00:11, 121.59it/s]\n"
     ]
    },
    {
     "name": "stdout",
     "output_type": "stream",
     "text": [
      "T2S Decoding EOS [166 -> 222]\n",
      "############ 各阶段耗时: 处理参考音频 [1.787]s, 文本处理 [0.024]s, t2s_model [0.465]s, vits_model [0.380]s ############\n"
     ]
    }
   ],
   "source": [
    "import sys\n",
    "sys.path.append(\".\")\n",
    "\n",
    "from Inference.src.Adapter.GPT_soVITS_Adapter import GSV_Instance \n",
    "from Inference.src.TTS_Task import TTS_Task\n",
    "\n",
    "gsv_instance = GSV_Instance()\n",
    "task = TTS_Task()\n",
    "\n",
    "task.character = \"Hutao\"\n",
    "task.text = \"你好，我是一个测试文本。\"\n",
    "\n",
    "\n",
    "gen = gsv_instance.generate_from_text(task)\n",
    "sr, audio = next(gen)"
   ]
  },
  {
   "cell_type": "code",
   "execution_count": 17,
   "metadata": {},
   "outputs": [
    {
     "name": "stdout",
     "output_type": "stream",
     "text": [
      "Set seed to 1365976225\n",
      "分桶处理模式已开启\n"
     ]
    },
    {
     "ename": "AssertionError",
     "evalue": "",
     "output_type": "error",
     "traceback": [
      "\u001b[1;31m---------------------------------------------------------------------------\u001b[0m",
      "\u001b[1;31mAssertionError\u001b[0m                            Traceback (most recent call last)",
      "Cell \u001b[1;32mIn[17], line 27\u001b[0m\n\u001b[0;32m     23\u001b[0m inputs[\u001b[38;5;124m\"\u001b[39m\u001b[38;5;124mref_audio_path\u001b[39m\u001b[38;5;124m\"\u001b[39m] \u001b[38;5;241m=\u001b[39m new_audio_file\n\u001b[0;32m     26\u001b[0m gen \u001b[38;5;241m=\u001b[39m gsv_instance\u001b[38;5;241m.\u001b[39mtts_pipline\u001b[38;5;241m.\u001b[39mrun(inputs)\n\u001b[1;32m---> 27\u001b[0m sr, audio \u001b[38;5;241m=\u001b[39m \u001b[38;5;28;43mnext\u001b[39;49m\u001b[43m(\u001b[49m\u001b[43mgen\u001b[49m\u001b[43m)\u001b[49m\n",
      "File \u001b[1;32me:\\AItools\\AudioLabeling\\runtime\\lib\\site-packages\\torch\\utils\\_contextlib.py:35\u001b[0m, in \u001b[0;36m_wrap_generator.<locals>.generator_context\u001b[1;34m(*args, **kwargs)\u001b[0m\n\u001b[0;32m     32\u001b[0m \u001b[38;5;28;01mtry\u001b[39;00m:\n\u001b[0;32m     33\u001b[0m     \u001b[38;5;66;03m# Issuing `None` to a generator fires it up\u001b[39;00m\n\u001b[0;32m     34\u001b[0m     \u001b[38;5;28;01mwith\u001b[39;00m ctx_factory():\n\u001b[1;32m---> 35\u001b[0m         response \u001b[38;5;241m=\u001b[39m \u001b[43mgen\u001b[49m\u001b[38;5;241;43m.\u001b[39;49m\u001b[43msend\u001b[49m\u001b[43m(\u001b[49m\u001b[38;5;28;43;01mNone\u001b[39;49;00m\u001b[43m)\u001b[49m\n\u001b[0;32m     37\u001b[0m     \u001b[38;5;28;01mwhile\u001b[39;00m \u001b[38;5;28;01mTrue\u001b[39;00m:\n\u001b[0;32m     38\u001b[0m         \u001b[38;5;28;01mtry\u001b[39;00m:\n\u001b[0;32m     39\u001b[0m             \u001b[38;5;66;03m# Forward the response to our caller and get its next request\u001b[39;00m\n",
      "File \u001b[1;32mE:\\AItools\\GPT-SoVITS-Inference\\GPT_SoVITS\\TTS_infer_pack\\TTS.py:648\u001b[0m, in \u001b[0;36mTTS.run\u001b[1;34m(self, inputs)\u001b[0m\n\u001b[0;32m      0\u001b[0m <Error retrieving source code with stack_data see ipython/ipython#13598>\n",
      "\u001b[1;31mAssertionError\u001b[0m: "
     ]
    }
   ],
   "source": [
    "import os\n",
    "origin_audio_file =r\"E:\\AItools\\GPT-SoVITS-Inference\\trained\\Hutao\\我说白术，你不会看不出来吧？难不成你师父，忘了教你这门功夫？.wav\"\n",
    "new_audio_file =r\"E:\\AItools\\声音合成一键运行240320\\Models\\银狼\\你吼那么大声干什么嘛.wav\"\n",
    "# audio_file =r\"E:\\AItools\\tr\\丁真\\我最近一直在努力学习.wav\"\n",
    "text = \"我正在进行音频测试，下面是一段测试文本：蓝蓝的天空，白白的云，红红的太阳挂在天空中央。\"\n",
    "prompt_text = os.path.basename(new_audio_file).replace(\".wav\", \"\")\n",
    "\n",
    "\n",
    "prompt_cache:dict = {\n",
    "            \"ref_audio_path\" : None,\n",
    "            \"prompt_semantic\": None,\n",
    "            \"refer_spec\"     : None,\n",
    "            \"prompt_text\"    : None,\n",
    "            \"prompt_lang\"    : None,\n",
    "            \"phones\"         : None,\n",
    "            \"bert_features\"  : None,\n",
    "            \"norm_text\"      : None,\n",
    "        }\n",
    "\n",
    "params = {\n",
    "            \"text\": text,\n",
    "            \"ref_audio_path\": origin_audio_file,\n",
    "            \"text_lang\": \"auto\",\n",
    "            \"prompt_text\": prompt_text,\n",
    "            \"prompt_lang\": \"auto\",\n",
    "            \"top_k\": 1,\n",
    "            \"top_p\": 1.0,\n",
    "            \"temperature\": 1.0,\n",
    "            \"text_split_method\": \"auto_cut_100\", \n",
    "            \"batch_size\": 1,\n",
    "            \"speed_factor\": 1.0,\n",
    "            \"ref_text_free\": False,\n",
    "            \"split_bucket\":True,\n",
    "            \"return_fragment\":False,\n",
    "            \"seed\": -1,\n",
    "        }\n",
    "\n",
    "\n",
    "\n",
    "\n",
    "gen = gsv_instance.tts_pipline.run(params)\n",
    "sr, audio = next(gen)\n"
   ]
  },
  {
   "cell_type": "code",
   "execution_count": 13,
   "metadata": {},
   "outputs": [
    {
     "name": "stdout",
     "output_type": "stream",
     "text": [
      "Looking in indexes: https://pypi.tuna.tsinghua.edu.cn/simple\n",
      "Requirement already satisfied: pyaudio in e:\\aitools\\audiolabeling\\runtime\\lib\\site-packages (0.2.14)\n",
      "Note: you may need to restart the kernel to use updated packages.\n"
     ]
    }
   ],
   "source": [
    "%pip install pyaudio\n",
    "import pyaudio\n",
    "\n",
    "import soundfile as sf\n",
    "import numpy as np\n",
    "import tempfile \n",
    "\n",
    "# audio : np.ndarray\n",
    "\n",
    "p = pyaudio.PyAudio()\n",
    "streamAudio = p.open(\n",
    "            format=p.get_format_from_width(2), channels=1, rate=32000, output=True\n",
    "        )\n",
    "streamAudio.write(audio.tobytes())\n",
    "streamAudio.stop_stream()"
   ]
  }
 ],
 "metadata": {
  "kernelspec": {
   "display_name": "Python 3",
   "language": "python",
   "name": "python3"
  },
  "language_info": {
   "codemirror_mode": {
    "name": "ipython",
    "version": 3
   },
   "file_extension": ".py",
   "mimetype": "text/x-python",
   "name": "python",
   "nbconvert_exporter": "python",
   "pygments_lexer": "ipython3",
   "version": "3.10.14"
  }
 },
 "nbformat": 4,
 "nbformat_minor": 2
}
